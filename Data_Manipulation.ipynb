{
  "cells": [
    {
      "cell_type": "markdown",
      "metadata": {
        "id": "view-in-github",
        "colab_type": "text"
      },
      "source": [
        "<a href=\"https://colab.research.google.com/github/akash-kola-test/python-data-manipulation/blob/main/Data_Manipulation.ipynb\" target=\"_parent\"><img src=\"https://colab.research.google.com/assets/colab-badge.svg\" alt=\"Open In Colab\"/></a>"
      ]
    },
    {
      "cell_type": "code",
      "execution_count": 26,
      "metadata": {
        "id": "mfUMY1LSTrLD"
      },
      "outputs": [],
      "source": [
        "from sqlalchemy import create_engine\n",
        "\n",
        "engine = create_engine('sqlite:///test.db')"
      ]
    },
    {
      "cell_type": "code",
      "execution_count": 27,
      "metadata": {
        "id": "QgAYoi2MT6lS"
      },
      "outputs": [],
      "source": [
        "from sqlalchemy.orm import Mapped, mapped_column, DeclarativeBase, Session"
      ]
    },
    {
      "cell_type": "code",
      "source": [
        "class Base(DeclarativeBase):\n",
        "    pass"
      ],
      "metadata": {
        "id": "KeuEReTMWDYc"
      },
      "execution_count": 28,
      "outputs": []
    },
    {
      "cell_type": "code",
      "source": [
        "class User(Base):\n",
        "    __tablename__ = 'json_to_sql_table'\n",
        "\n",
        "    id: Mapped[int] = mapped_column(primary_key=True)\n",
        "    name: Mapped[str]\n",
        "    phone: Mapped[str]\n",
        "    email: Mapped[str]\n",
        "    address: Mapped[str]\n",
        "    region: Mapped[str]\n",
        "    country: Mapped[str]\n",
        "    list_col: Mapped[str] = mapped_column(name='list')\n",
        "    postalzip: Mapped[str]\n",
        "    currency: Mapped[str]\n",
        "\n",
        "Base.metadata.create_all(engine)"
      ],
      "metadata": {
        "id": "3mEAo2DLWFdS"
      },
      "execution_count": 29,
      "outputs": []
    },
    {
      "cell_type": "code",
      "source": [
        "import json"
      ],
      "metadata": {
        "id": "kZPuO_jxX0Lg"
      },
      "execution_count": 30,
      "outputs": []
    },
    {
      "cell_type": "code",
      "source": [
        "with open(\"/content/drive/MyDrive/sample_data_for_assignment.json\") as file:\n",
        "  users_data = json.load(file)\n"
      ],
      "metadata": {
        "id": "ujIkRbM_X4Cn"
      },
      "execution_count": 31,
      "outputs": []
    },
    {
      "cell_type": "code",
      "source": [
        "len(users_data[\"data\"])"
      ],
      "metadata": {
        "colab": {
          "base_uri": "https://localhost:8080/"
        },
        "id": "3Hi8CfwlYM0b",
        "outputId": "9798ece4-870e-41f2-919c-7669fb39ff55"
      },
      "execution_count": 32,
      "outputs": [
        {
          "output_type": "execute_result",
          "data": {
            "text/plain": [
              "500"
            ]
          },
          "metadata": {},
          "execution_count": 32
        }
      ]
    },
    {
      "cell_type": "code",
      "source": [
        "with Session(engine) as session:\n",
        "  for user in users_data[\"data\"]:\n",
        "    db_user = User(name=user[0], phone=user[1], email=user[2], address=user[3], region=user[4], country=user[5], list_col=user[6], postalzip=user[7], currency=user[8])\n",
        "    session.add(db_user)\n",
        "  session.commit()\n"
      ],
      "metadata": {
        "id": "P405EqpYYPX-"
      },
      "execution_count": 33,
      "outputs": []
    },
    {
      "cell_type": "code",
      "source": [
        "# Task 1\n",
        "import pandas as pd\n",
        "df = pd.read_sql_table(\"json_to_sql_table\", engine)\n",
        "df.set_index(\"id\", inplace=True)\n",
        "df.info()"
      ],
      "metadata": {
        "id": "FL9sTp5AYwPI",
        "outputId": "e8bce58f-4ee2-47f4-d664-debc8254bbca",
        "colab": {
          "base_uri": "https://localhost:8080/"
        }
      },
      "execution_count": 34,
      "outputs": [
        {
          "output_type": "stream",
          "name": "stdout",
          "text": [
            "<class 'pandas.core.frame.DataFrame'>\n",
            "Index: 1000 entries, 1 to 1000\n",
            "Data columns (total 9 columns):\n",
            " #   Column     Non-Null Count  Dtype \n",
            "---  ------     --------------  ----- \n",
            " 0   name       1000 non-null   object\n",
            " 1   phone      1000 non-null   object\n",
            " 2   email      1000 non-null   object\n",
            " 3   address    1000 non-null   object\n",
            " 4   region     1000 non-null   object\n",
            " 5   country    1000 non-null   object\n",
            " 6   list       1000 non-null   object\n",
            " 7   postalzip  1000 non-null   object\n",
            " 8   currency   1000 non-null   object\n",
            "dtypes: object(9)\n",
            "memory usage: 78.1+ KB\n"
          ]
        }
      ]
    },
    {
      "cell_type": "code",
      "source": [
        "# Task 2\n",
        "for i in range(0, df.shape[0]):\n",
        "  series = df.iloc[i]\n",
        "  series.name = \"Data\"\n",
        "  print(pd.DataFrame(series))\n",
        "  break"
      ],
      "metadata": {
        "colab": {
          "base_uri": "https://localhost:8080/"
        },
        "id": "GKtysFSpZoDy",
        "outputId": "1b84e622-9588-4dbd-a159-3832d7eb8310"
      },
      "execution_count": 36,
      "outputs": [
        {
          "output_type": "stream",
          "name": "stdout",
          "text": [
            "                             Data\n",
            "name              Winifred Branch\n",
            "phone              1-251-583-4993\n",
            "email        in.mi@protonmail.com\n",
            "address    Ap #530-5652 Arcu. Rd.\n",
            "region             Rio de Janeiro\n",
            "country                   Nigeria\n",
            "list                           19\n",
            "postalzip               66242-403\n",
            "currency                   $14.59\n"
          ]
        }
      ]
    },
    {
      "cell_type": "code",
      "source": [
        "# Task 3\n",
        "df[\"email\"].str.split(\"@\", expand=True)[0].apply(lambda x: x + \"@gmail.com\")"
      ],
      "metadata": {
        "colab": {
          "base_uri": "https://localhost:8080/",
          "height": 490
        },
        "id": "k8ez8zbMaJVk",
        "outputId": "c91f3d73-ef0f-4f6d-bef1-11a8095cb999"
      },
      "execution_count": 45,
      "outputs": [
        {
          "output_type": "execute_result",
          "data": {
            "text/plain": [
              "id\n",
              "1                         in.mi@gmail.com\n",
              "2               venenatis.lacus@gmail.com\n",
              "3                       orci.in@gmail.com\n",
              "4       placerat.eget.venenatis@gmail.com\n",
              "5                         lorem@gmail.com\n",
              "                      ...                \n",
              "996       non.quam.pellentesque@gmail.com\n",
              "997                suscipit.est@gmail.com\n",
              "998                nibh.lacinia@gmail.com\n",
              "999                        nunc@gmail.com\n",
              "1000                     luctus@gmail.com\n",
              "Name: 0, Length: 1000, dtype: object"
            ],
            "text/html": [
              "<div>\n",
              "<style scoped>\n",
              "    .dataframe tbody tr th:only-of-type {\n",
              "        vertical-align: middle;\n",
              "    }\n",
              "\n",
              "    .dataframe tbody tr th {\n",
              "        vertical-align: top;\n",
              "    }\n",
              "\n",
              "    .dataframe thead th {\n",
              "        text-align: right;\n",
              "    }\n",
              "</style>\n",
              "<table border=\"1\" class=\"dataframe\">\n",
              "  <thead>\n",
              "    <tr style=\"text-align: right;\">\n",
              "      <th></th>\n",
              "      <th>0</th>\n",
              "    </tr>\n",
              "    <tr>\n",
              "      <th>id</th>\n",
              "      <th></th>\n",
              "    </tr>\n",
              "  </thead>\n",
              "  <tbody>\n",
              "    <tr>\n",
              "      <th>1</th>\n",
              "      <td>in.mi@gmail.com</td>\n",
              "    </tr>\n",
              "    <tr>\n",
              "      <th>2</th>\n",
              "      <td>venenatis.lacus@gmail.com</td>\n",
              "    </tr>\n",
              "    <tr>\n",
              "      <th>3</th>\n",
              "      <td>orci.in@gmail.com</td>\n",
              "    </tr>\n",
              "    <tr>\n",
              "      <th>4</th>\n",
              "      <td>placerat.eget.venenatis@gmail.com</td>\n",
              "    </tr>\n",
              "    <tr>\n",
              "      <th>5</th>\n",
              "      <td>lorem@gmail.com</td>\n",
              "    </tr>\n",
              "    <tr>\n",
              "      <th>...</th>\n",
              "      <td>...</td>\n",
              "    </tr>\n",
              "    <tr>\n",
              "      <th>996</th>\n",
              "      <td>non.quam.pellentesque@gmail.com</td>\n",
              "    </tr>\n",
              "    <tr>\n",
              "      <th>997</th>\n",
              "      <td>suscipit.est@gmail.com</td>\n",
              "    </tr>\n",
              "    <tr>\n",
              "      <th>998</th>\n",
              "      <td>nibh.lacinia@gmail.com</td>\n",
              "    </tr>\n",
              "    <tr>\n",
              "      <th>999</th>\n",
              "      <td>nunc@gmail.com</td>\n",
              "    </tr>\n",
              "    <tr>\n",
              "      <th>1000</th>\n",
              "      <td>luctus@gmail.com</td>\n",
              "    </tr>\n",
              "  </tbody>\n",
              "</table>\n",
              "<p>1000 rows × 1 columns</p>\n",
              "</div><br><label><b>dtype:</b> object</label>"
            ]
          },
          "metadata": {},
          "execution_count": 45
        }
      ]
    },
    {
      "cell_type": "code",
      "source": [
        "# Task 4\n",
        "import re\n",
        "\n",
        "def clean_postal_zip(postal_zip):\n",
        "  postal_zip = str(postal_zip)\n",
        "  postal_zip = re.sub(r'[^0-9]', '', postal_zip)\n",
        "  return int(postal_zip) if postal_zip else None\n",
        "\n",
        "postal_zips = df[\"postalzip\"].map(clean_postal_zip)\n",
        "postal_zips.isna().sum()"
      ],
      "metadata": {
        "colab": {
          "base_uri": "https://localhost:8080/"
        },
        "id": "R77573GBbdaz",
        "outputId": "12ba8ee7-c0fe-46fc-9a19-9fc49bbc1c0f"
      },
      "execution_count": 44,
      "outputs": [
        {
          "output_type": "execute_result",
          "data": {
            "text/plain": [
              "0"
            ]
          },
          "metadata": {},
          "execution_count": 44
        }
      ]
    },
    {
      "cell_type": "code",
      "source": [
        "postal_zips"
      ],
      "metadata": {
        "colab": {
          "base_uri": "https://localhost:8080/",
          "height": 490
        },
        "id": "Xh-xJVvacUD0",
        "outputId": "5f437b9e-b547-4d12-c4af-3754e3afffcf"
      },
      "execution_count": 39,
      "outputs": [
        {
          "output_type": "execute_result",
          "data": {
            "text/plain": [
              "id\n",
              "1       66242403\n",
              "2          18317\n",
              "3           8581\n",
              "4          28826\n",
              "5         335049\n",
              "          ...   \n",
              "996        49343\n",
              "997       393741\n",
              "998        70801\n",
              "999         3765\n",
              "1000      651193\n",
              "Name: postalzip, Length: 1000, dtype: int64"
            ],
            "text/html": [
              "<div>\n",
              "<style scoped>\n",
              "    .dataframe tbody tr th:only-of-type {\n",
              "        vertical-align: middle;\n",
              "    }\n",
              "\n",
              "    .dataframe tbody tr th {\n",
              "        vertical-align: top;\n",
              "    }\n",
              "\n",
              "    .dataframe thead th {\n",
              "        text-align: right;\n",
              "    }\n",
              "</style>\n",
              "<table border=\"1\" class=\"dataframe\">\n",
              "  <thead>\n",
              "    <tr style=\"text-align: right;\">\n",
              "      <th></th>\n",
              "      <th>postalzip</th>\n",
              "    </tr>\n",
              "    <tr>\n",
              "      <th>id</th>\n",
              "      <th></th>\n",
              "    </tr>\n",
              "  </thead>\n",
              "  <tbody>\n",
              "    <tr>\n",
              "      <th>1</th>\n",
              "      <td>66242403</td>\n",
              "    </tr>\n",
              "    <tr>\n",
              "      <th>2</th>\n",
              "      <td>18317</td>\n",
              "    </tr>\n",
              "    <tr>\n",
              "      <th>3</th>\n",
              "      <td>8581</td>\n",
              "    </tr>\n",
              "    <tr>\n",
              "      <th>4</th>\n",
              "      <td>28826</td>\n",
              "    </tr>\n",
              "    <tr>\n",
              "      <th>5</th>\n",
              "      <td>335049</td>\n",
              "    </tr>\n",
              "    <tr>\n",
              "      <th>...</th>\n",
              "      <td>...</td>\n",
              "    </tr>\n",
              "    <tr>\n",
              "      <th>996</th>\n",
              "      <td>49343</td>\n",
              "    </tr>\n",
              "    <tr>\n",
              "      <th>997</th>\n",
              "      <td>393741</td>\n",
              "    </tr>\n",
              "    <tr>\n",
              "      <th>998</th>\n",
              "      <td>70801</td>\n",
              "    </tr>\n",
              "    <tr>\n",
              "      <th>999</th>\n",
              "      <td>3765</td>\n",
              "    </tr>\n",
              "    <tr>\n",
              "      <th>1000</th>\n",
              "      <td>651193</td>\n",
              "    </tr>\n",
              "  </tbody>\n",
              "</table>\n",
              "<p>1000 rows × 1 columns</p>\n",
              "</div><br><label><b>dtype:</b> int64</label>"
            ]
          },
          "metadata": {},
          "execution_count": 39
        }
      ]
    },
    {
      "cell_type": "code",
      "source": [
        "# Task 5\n",
        "\n",
        "import re\n",
        "\n",
        "def phone_ascii(phone):\n",
        "  phone = str(phone)\n",
        "  phone = re.sub(r'[^0-9]', '', phone)\n",
        "\n",
        "  ascii_codes = \"\"\n",
        "\n",
        "  for i in range(0, len(phone), 2):\n",
        "    value = phone[i: i+2]\n",
        "    if len(value) != 2:\n",
        "      continue\n",
        "    int_value = int(value)\n",
        "    if int_value < 0 or int_value > 127:\n",
        "      continue\n",
        "    ascii_codes += chr(int_value)\n",
        "\n",
        "  return ascii_codes\n",
        "\n",
        "df[\"Ascii\"] = df[\"phone\"].map(phone_ascii)\n",
        "df[df[\"phone\"].isin([\"(816) 530-4269\", \"1-811-920-9732\"])]"
      ],
      "metadata": {
        "id": "IWeT5gdReVdk",
        "outputId": "c950c361-4bd5-43d4-8bae-ce028509ce74",
        "colab": {
          "base_uri": "https://localhost:8080/",
          "height": 206
        }
      },
      "execution_count": 47,
      "outputs": [
        {
          "output_type": "execute_result",
          "data": {
            "text/plain": [
              "                name           phone                         email  \\\n",
              "id                                                                   \n",
              "8     Rana Schneider  (816) 530-4269     dictum.cursus@outlook.com   \n",
              "9    Constance Rocha  1-811-920-9732  ornare.egestas.ligula@aol.ca   \n",
              "508   Rana Schneider  (816) 530-4269     dictum.cursus@outlook.com   \n",
              "509  Constance Rocha  1-811-920-9732  ornare.egestas.ligula@aol.ca   \n",
              "\n",
              "                    address                     region country list postalzip  \\\n",
              "id                                                                              \n",
              "8    387-7160 Aenean Street  Newfoundland and Labrador   Italy    7   59L 5R7   \n",
              "9      724-3665 Ligula. Ave                      Bihar  Brazil   15     44258   \n",
              "508  387-7160 Aenean Street  Newfoundland and Labrador   Italy    7   59L 5R7   \n",
              "509    724-3665 Ligula. Ave                      Bihar  Brazil   15     44258   \n",
              "\n",
              "    currency coded_phone_number   Ascii  \n",
              "id                                       \n",
              "8     $37.58              QA\n",
              "*E   QA\n",
              "*E  \n",
              "9     $23.88             \u0012\n",
              "\\\\tI  \u0012\n",
              "\\\\tI  \n",
              "508   $37.58              QA\n",
              "*E   QA\n",
              "*E  \n",
              "509   $23.88             \u0012\n",
              "\\\\tI  \u0012\n",
              "\\\\tI  "
            ],
            "text/html": [
              "\n",
              "  <div id=\"df-eb20649e-6693-4fbf-9196-104265bbe408\" class=\"colab-df-container\">\n",
              "    <div>\n",
              "<style scoped>\n",
              "    .dataframe tbody tr th:only-of-type {\n",
              "        vertical-align: middle;\n",
              "    }\n",
              "\n",
              "    .dataframe tbody tr th {\n",
              "        vertical-align: top;\n",
              "    }\n",
              "\n",
              "    .dataframe thead th {\n",
              "        text-align: right;\n",
              "    }\n",
              "</style>\n",
              "<table border=\"1\" class=\"dataframe\">\n",
              "  <thead>\n",
              "    <tr style=\"text-align: right;\">\n",
              "      <th></th>\n",
              "      <th>name</th>\n",
              "      <th>phone</th>\n",
              "      <th>email</th>\n",
              "      <th>address</th>\n",
              "      <th>region</th>\n",
              "      <th>country</th>\n",
              "      <th>list</th>\n",
              "      <th>postalzip</th>\n",
              "      <th>currency</th>\n",
              "      <th>coded_phone_number</th>\n",
              "      <th>Ascii</th>\n",
              "    </tr>\n",
              "    <tr>\n",
              "      <th>id</th>\n",
              "      <th></th>\n",
              "      <th></th>\n",
              "      <th></th>\n",
              "      <th></th>\n",
              "      <th></th>\n",
              "      <th></th>\n",
              "      <th></th>\n",
              "      <th></th>\n",
              "      <th></th>\n",
              "      <th></th>\n",
              "      <th></th>\n",
              "    </tr>\n",
              "  </thead>\n",
              "  <tbody>\n",
              "    <tr>\n",
              "      <th>8</th>\n",
              "      <td>Rana Schneider</td>\n",
              "      <td>(816) 530-4269</td>\n",
              "      <td>dictum.cursus@outlook.com</td>\n",
              "      <td>387-7160 Aenean Street</td>\n",
              "      <td>Newfoundland and Labrador</td>\n",
              "      <td>Italy</td>\n",
              "      <td>7</td>\n",
              "      <td>59L 5R7</td>\n",
              "      <td>$37.58</td>\n",
              "      <td>QA\u001e*E</td>\n",
              "      <td>QA\u001e*E</td>\n",
              "    </tr>\n",
              "    <tr>\n",
              "      <th>9</th>\n",
              "      <td>Constance Rocha</td>\n",
              "      <td>1-811-920-9732</td>\n",
              "      <td>ornare.egestas.ligula@aol.ca</td>\n",
              "      <td>724-3665 Ligula. Ave</td>\n",
              "      <td>Bihar</td>\n",
              "      <td>Brazil</td>\n",
              "      <td>15</td>\n",
              "      <td>44258</td>\n",
              "      <td>$23.88</td>\n",
              "      <td>\u0012\u000b\\\\tI</td>\n",
              "      <td>\u0012\u000b\\\\tI</td>\n",
              "    </tr>\n",
              "    <tr>\n",
              "      <th>508</th>\n",
              "      <td>Rana Schneider</td>\n",
              "      <td>(816) 530-4269</td>\n",
              "      <td>dictum.cursus@outlook.com</td>\n",
              "      <td>387-7160 Aenean Street</td>\n",
              "      <td>Newfoundland and Labrador</td>\n",
              "      <td>Italy</td>\n",
              "      <td>7</td>\n",
              "      <td>59L 5R7</td>\n",
              "      <td>$37.58</td>\n",
              "      <td>QA\u001e*E</td>\n",
              "      <td>QA\u001e*E</td>\n",
              "    </tr>\n",
              "    <tr>\n",
              "      <th>509</th>\n",
              "      <td>Constance Rocha</td>\n",
              "      <td>1-811-920-9732</td>\n",
              "      <td>ornare.egestas.ligula@aol.ca</td>\n",
              "      <td>724-3665 Ligula. Ave</td>\n",
              "      <td>Bihar</td>\n",
              "      <td>Brazil</td>\n",
              "      <td>15</td>\n",
              "      <td>44258</td>\n",
              "      <td>$23.88</td>\n",
              "      <td>\u0012\u000b\\\\tI</td>\n",
              "      <td>\u0012\u000b\\\\tI</td>\n",
              "    </tr>\n",
              "  </tbody>\n",
              "</table>\n",
              "</div>\n",
              "    <div class=\"colab-df-buttons\">\n",
              "\n",
              "  <div class=\"colab-df-container\">\n",
              "    <button class=\"colab-df-convert\" onclick=\"convertToInteractive('df-eb20649e-6693-4fbf-9196-104265bbe408')\"\n",
              "            title=\"Convert this dataframe to an interactive table.\"\n",
              "            style=\"display:none;\">\n",
              "\n",
              "  <svg xmlns=\"http://www.w3.org/2000/svg\" height=\"24px\" viewBox=\"0 -960 960 960\">\n",
              "    <path d=\"M120-120v-720h720v720H120Zm60-500h600v-160H180v160Zm220 220h160v-160H400v160Zm0 220h160v-160H400v160ZM180-400h160v-160H180v160Zm440 0h160v-160H620v160ZM180-180h160v-160H180v160Zm440 0h160v-160H620v160Z\"/>\n",
              "  </svg>\n",
              "    </button>\n",
              "\n",
              "  <style>\n",
              "    .colab-df-container {\n",
              "      display:flex;\n",
              "      gap: 12px;\n",
              "    }\n",
              "\n",
              "    .colab-df-convert {\n",
              "      background-color: #E8F0FE;\n",
              "      border: none;\n",
              "      border-radius: 50%;\n",
              "      cursor: pointer;\n",
              "      display: none;\n",
              "      fill: #1967D2;\n",
              "      height: 32px;\n",
              "      padding: 0 0 0 0;\n",
              "      width: 32px;\n",
              "    }\n",
              "\n",
              "    .colab-df-convert:hover {\n",
              "      background-color: #E2EBFA;\n",
              "      box-shadow: 0px 1px 2px rgba(60, 64, 67, 0.3), 0px 1px 3px 1px rgba(60, 64, 67, 0.15);\n",
              "      fill: #174EA6;\n",
              "    }\n",
              "\n",
              "    .colab-df-buttons div {\n",
              "      margin-bottom: 4px;\n",
              "    }\n",
              "\n",
              "    [theme=dark] .colab-df-convert {\n",
              "      background-color: #3B4455;\n",
              "      fill: #D2E3FC;\n",
              "    }\n",
              "\n",
              "    [theme=dark] .colab-df-convert:hover {\n",
              "      background-color: #434B5C;\n",
              "      box-shadow: 0px 1px 3px 1px rgba(0, 0, 0, 0.15);\n",
              "      filter: drop-shadow(0px 1px 2px rgba(0, 0, 0, 0.3));\n",
              "      fill: #FFFFFF;\n",
              "    }\n",
              "  </style>\n",
              "\n",
              "    <script>\n",
              "      const buttonEl =\n",
              "        document.querySelector('#df-eb20649e-6693-4fbf-9196-104265bbe408 button.colab-df-convert');\n",
              "      buttonEl.style.display =\n",
              "        google.colab.kernel.accessAllowed ? 'block' : 'none';\n",
              "\n",
              "      async function convertToInteractive(key) {\n",
              "        const element = document.querySelector('#df-eb20649e-6693-4fbf-9196-104265bbe408');\n",
              "        const dataTable =\n",
              "          await google.colab.kernel.invokeFunction('convertToInteractive',\n",
              "                                                    [key], {});\n",
              "        if (!dataTable) return;\n",
              "\n",
              "        const docLinkHtml = 'Like what you see? Visit the ' +\n",
              "          '<a target=\"_blank\" href=https://colab.research.google.com/notebooks/data_table.ipynb>data table notebook</a>'\n",
              "          + ' to learn more about interactive tables.';\n",
              "        element.innerHTML = '';\n",
              "        dataTable['output_type'] = 'display_data';\n",
              "        await google.colab.output.renderOutput(dataTable, element);\n",
              "        const docLink = document.createElement('div');\n",
              "        docLink.innerHTML = docLinkHtml;\n",
              "        element.appendChild(docLink);\n",
              "      }\n",
              "    </script>\n",
              "  </div>\n",
              "\n",
              "\n",
              "<div id=\"df-6e814b3f-de2c-476f-92ee-3df0e1466076\">\n",
              "  <button class=\"colab-df-quickchart\" onclick=\"quickchart('df-6e814b3f-de2c-476f-92ee-3df0e1466076')\"\n",
              "            title=\"Suggest charts\"\n",
              "            style=\"display:none;\">\n",
              "\n",
              "<svg xmlns=\"http://www.w3.org/2000/svg\" height=\"24px\"viewBox=\"0 0 24 24\"\n",
              "     width=\"24px\">\n",
              "    <g>\n",
              "        <path d=\"M19 3H5c-1.1 0-2 .9-2 2v14c0 1.1.9 2 2 2h14c1.1 0 2-.9 2-2V5c0-1.1-.9-2-2-2zM9 17H7v-7h2v7zm4 0h-2V7h2v10zm4 0h-2v-4h2v4z\"/>\n",
              "    </g>\n",
              "</svg>\n",
              "  </button>\n",
              "\n",
              "<style>\n",
              "  .colab-df-quickchart {\n",
              "      --bg-color: #E8F0FE;\n",
              "      --fill-color: #1967D2;\n",
              "      --hover-bg-color: #E2EBFA;\n",
              "      --hover-fill-color: #174EA6;\n",
              "      --disabled-fill-color: #AAA;\n",
              "      --disabled-bg-color: #DDD;\n",
              "  }\n",
              "\n",
              "  [theme=dark] .colab-df-quickchart {\n",
              "      --bg-color: #3B4455;\n",
              "      --fill-color: #D2E3FC;\n",
              "      --hover-bg-color: #434B5C;\n",
              "      --hover-fill-color: #FFFFFF;\n",
              "      --disabled-bg-color: #3B4455;\n",
              "      --disabled-fill-color: #666;\n",
              "  }\n",
              "\n",
              "  .colab-df-quickchart {\n",
              "    background-color: var(--bg-color);\n",
              "    border: none;\n",
              "    border-radius: 50%;\n",
              "    cursor: pointer;\n",
              "    display: none;\n",
              "    fill: var(--fill-color);\n",
              "    height: 32px;\n",
              "    padding: 0;\n",
              "    width: 32px;\n",
              "  }\n",
              "\n",
              "  .colab-df-quickchart:hover {\n",
              "    background-color: var(--hover-bg-color);\n",
              "    box-shadow: 0 1px 2px rgba(60, 64, 67, 0.3), 0 1px 3px 1px rgba(60, 64, 67, 0.15);\n",
              "    fill: var(--button-hover-fill-color);\n",
              "  }\n",
              "\n",
              "  .colab-df-quickchart-complete:disabled,\n",
              "  .colab-df-quickchart-complete:disabled:hover {\n",
              "    background-color: var(--disabled-bg-color);\n",
              "    fill: var(--disabled-fill-color);\n",
              "    box-shadow: none;\n",
              "  }\n",
              "\n",
              "  .colab-df-spinner {\n",
              "    border: 2px solid var(--fill-color);\n",
              "    border-color: transparent;\n",
              "    border-bottom-color: var(--fill-color);\n",
              "    animation:\n",
              "      spin 1s steps(1) infinite;\n",
              "  }\n",
              "\n",
              "  @keyframes spin {\n",
              "    0% {\n",
              "      border-color: transparent;\n",
              "      border-bottom-color: var(--fill-color);\n",
              "      border-left-color: var(--fill-color);\n",
              "    }\n",
              "    20% {\n",
              "      border-color: transparent;\n",
              "      border-left-color: var(--fill-color);\n",
              "      border-top-color: var(--fill-color);\n",
              "    }\n",
              "    30% {\n",
              "      border-color: transparent;\n",
              "      border-left-color: var(--fill-color);\n",
              "      border-top-color: var(--fill-color);\n",
              "      border-right-color: var(--fill-color);\n",
              "    }\n",
              "    40% {\n",
              "      border-color: transparent;\n",
              "      border-right-color: var(--fill-color);\n",
              "      border-top-color: var(--fill-color);\n",
              "    }\n",
              "    60% {\n",
              "      border-color: transparent;\n",
              "      border-right-color: var(--fill-color);\n",
              "    }\n",
              "    80% {\n",
              "      border-color: transparent;\n",
              "      border-right-color: var(--fill-color);\n",
              "      border-bottom-color: var(--fill-color);\n",
              "    }\n",
              "    90% {\n",
              "      border-color: transparent;\n",
              "      border-bottom-color: var(--fill-color);\n",
              "    }\n",
              "  }\n",
              "</style>\n",
              "\n",
              "  <script>\n",
              "    async function quickchart(key) {\n",
              "      const quickchartButtonEl =\n",
              "        document.querySelector('#' + key + ' button');\n",
              "      quickchartButtonEl.disabled = true;  // To prevent multiple clicks.\n",
              "      quickchartButtonEl.classList.add('colab-df-spinner');\n",
              "      try {\n",
              "        const charts = await google.colab.kernel.invokeFunction(\n",
              "            'suggestCharts', [key], {});\n",
              "      } catch (error) {\n",
              "        console.error('Error during call to suggestCharts:', error);\n",
              "      }\n",
              "      quickchartButtonEl.classList.remove('colab-df-spinner');\n",
              "      quickchartButtonEl.classList.add('colab-df-quickchart-complete');\n",
              "    }\n",
              "    (() => {\n",
              "      let quickchartButtonEl =\n",
              "        document.querySelector('#df-6e814b3f-de2c-476f-92ee-3df0e1466076 button');\n",
              "      quickchartButtonEl.style.display =\n",
              "        google.colab.kernel.accessAllowed ? 'block' : 'none';\n",
              "    })();\n",
              "  </script>\n",
              "</div>\n",
              "\n",
              "    </div>\n",
              "  </div>\n"
            ],
            "application/vnd.google.colaboratory.intrinsic+json": {
              "type": "dataframe",
              "summary": "{\n  \"name\": \"df[df[\\\"phone\\\"]\",\n  \"rows\": 4,\n  \"fields\": [\n    {\n      \"column\": \"id\",\n      \"properties\": {\n        \"dtype\": \"number\",\n        \"std\": 288,\n        \"min\": 8,\n        \"max\": 509,\n        \"num_unique_values\": 4,\n        \"samples\": [\n          9,\n          509,\n          8\n        ],\n        \"semantic_type\": \"\",\n        \"description\": \"\"\n      }\n    },\n    {\n      \"column\": \"name\",\n      \"properties\": {\n        \"dtype\": \"string\",\n        \"num_unique_values\": 2,\n        \"samples\": [\n          \"Constance Rocha\",\n          \"Rana Schneider\"\n        ],\n        \"semantic_type\": \"\",\n        \"description\": \"\"\n      }\n    },\n    {\n      \"column\": \"phone\",\n      \"properties\": {\n        \"dtype\": \"string\",\n        \"num_unique_values\": 2,\n        \"samples\": [\n          \"1-811-920-9732\",\n          \"(816) 530-4269\"\n        ],\n        \"semantic_type\": \"\",\n        \"description\": \"\"\n      }\n    },\n    {\n      \"column\": \"email\",\n      \"properties\": {\n        \"dtype\": \"string\",\n        \"num_unique_values\": 2,\n        \"samples\": [\n          \"ornare.egestas.ligula@aol.ca\",\n          \"dictum.cursus@outlook.com\"\n        ],\n        \"semantic_type\": \"\",\n        \"description\": \"\"\n      }\n    },\n    {\n      \"column\": \"address\",\n      \"properties\": {\n        \"dtype\": \"string\",\n        \"num_unique_values\": 2,\n        \"samples\": [\n          \"724-3665 Ligula. Ave\",\n          \"387-7160 Aenean Street\"\n        ],\n        \"semantic_type\": \"\",\n        \"description\": \"\"\n      }\n    },\n    {\n      \"column\": \"region\",\n      \"properties\": {\n        \"dtype\": \"string\",\n        \"num_unique_values\": 2,\n        \"samples\": [\n          \"Bihar\",\n          \"Newfoundland and Labrador\"\n        ],\n        \"semantic_type\": \"\",\n        \"description\": \"\"\n      }\n    },\n    {\n      \"column\": \"country\",\n      \"properties\": {\n        \"dtype\": \"string\",\n        \"num_unique_values\": 2,\n        \"samples\": [\n          \"Brazil\",\n          \"Italy\"\n        ],\n        \"semantic_type\": \"\",\n        \"description\": \"\"\n      }\n    },\n    {\n      \"column\": \"list\",\n      \"properties\": {\n        \"dtype\": \"string\",\n        \"num_unique_values\": 2,\n        \"samples\": [\n          \"15\",\n          \"7\"\n        ],\n        \"semantic_type\": \"\",\n        \"description\": \"\"\n      }\n    },\n    {\n      \"column\": \"postalzip\",\n      \"properties\": {\n        \"dtype\": \"string\",\n        \"num_unique_values\": 2,\n        \"samples\": [\n          \"44258\",\n          \"59L 5R7\"\n        ],\n        \"semantic_type\": \"\",\n        \"description\": \"\"\n      }\n    },\n    {\n      \"column\": \"currency\",\n      \"properties\": {\n        \"dtype\": \"string\",\n        \"num_unique_values\": 2,\n        \"samples\": [\n          \"$23.88\",\n          \"$37.58\"\n        ],\n        \"semantic_type\": \"\",\n        \"description\": \"\"\n      }\n    },\n    {\n      \"column\": \"coded_phone_number\",\n      \"properties\": {\n        \"dtype\": \"string\",\n        \"num_unique_values\": 2,\n        \"samples\": [\n          \"\\u0012\\u000b\\\\\\tI\",\n          \"QA\\u001e*E\"\n        ],\n        \"semantic_type\": \"\",\n        \"description\": \"\"\n      }\n    },\n    {\n      \"column\": \"Ascii\",\n      \"properties\": {\n        \"dtype\": \"string\",\n        \"num_unique_values\": 2,\n        \"samples\": [\n          \"\\u0012\\u000b\\\\\\tI\",\n          \"QA\\u001e*E\"\n        ],\n        \"semantic_type\": \"\",\n        \"description\": \"\"\n      }\n    }\n  ]\n}"
            }
          },
          "metadata": {},
          "execution_count": 47
        }
      ]
    },
    {
      "cell_type": "code",
      "source": [
        "# Task 6\n",
        "df.rename({\"Ascii\": \"coded_phone_number\"}, inplace=True, axis=1)\n",
        "df.columns"
      ],
      "metadata": {
        "id": "jKb6Datig-WY",
        "outputId": "885c9eed-f759-4b0f-f7d4-39bf44c7e8c1",
        "colab": {
          "base_uri": "https://localhost:8080/"
        }
      },
      "execution_count": 49,
      "outputs": [
        {
          "output_type": "execute_result",
          "data": {
            "text/plain": [
              "Index(['name', 'phone', 'email', 'address', 'region', 'country', 'list',\n",
              "       'postalzip', 'currency', 'coded_phone_number', 'coded_phone_number'],\n",
              "      dtype='object')"
            ]
          },
          "metadata": {},
          "execution_count": 49
        }
      ]
    }
  ],
  "metadata": {
    "colab": {
      "provenance": [],
      "mount_file_id": "https://github.com/akash-kola-test/python-data-manipulation/blob/main/Data_Manipulation.ipynb",
      "authorship_tag": "ABX9TyNWvcHQeN4cHWqPmbW1naxL",
      "include_colab_link": true
    },
    "kernelspec": {
      "display_name": "Python 3",
      "name": "python3"
    },
    "language_info": {
      "name": "python"
    }
  },
  "nbformat": 4,
  "nbformat_minor": 0
}